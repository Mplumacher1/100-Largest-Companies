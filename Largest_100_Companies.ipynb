{
 "cells": [
  {
   "cell_type": "code",
   "execution_count": 55,
   "id": "6be9cead-1cd5-4125-8f43-536d5637ebb2",
   "metadata": {},
   "outputs": [],
   "source": [
    "from bs4 import BeautifulSoup\n",
    "import requests\n",
    "import pandas as pd\n",
    "\n",
    "# Define the URL of the Wikipedia page to scrape\n",
    "url = 'https://en.wikipedia.org/wiki/List_of_largest_companies_in_the_United_States_by_revenue'\n",
    "\n",
    "# Send a GET request to the URL and store the response in a variable\n",
    "web_request = requests.get(url)\n",
    "\n",
    "# Parse the HTML content of the webpage using BeautifulSoup\n",
    "soup = BeautifulSoup(web_request.text, 'html')\n",
    "\n",
    "# Find all tables in the HTML content and select the second table (index 1)\n",
    "table = soup.find_all('table')[1]\n",
    "\n",
    "# Find all table headers (th elements) in the selected table\n",
    "head_titles = table.find_all('th')\n",
    "\n",
    "# Extract the text from each table header and strip any extra whitespace\n",
    "table_for_head_titles = [titles.text.strip() for titles in head_titles]\n",
    "\n",
    "# Create a DataFrame with the extracted headers as column names\n",
    "df = pd.DataFrame(columns = table_for_head_titles)\n",
    "df\n",
    "\n",
    "# Find all table rows (tr elements) in the selected table\n",
    "column_data = table.find_all('tr')\n",
    "\n",
    "# Loop through each row of the table, skipping the first row (headers)\n",
    "for row in column_data[1:]:\n",
    "     # Find all table data cells (td elements) in the current row\n",
    "    row_data = row.find_all('td')\n",
    "\n",
    "    # Extract the text from each cell and strip any extra whitespace\n",
    "    individual_data = [data.text.strip() for data in row_data]\n",
    "\n",
    "    # Get the current length of the DataFrame (number of rows)\n",
    "    length = len(df)\n",
    "\n",
    "    # Append the extracted row data to the DataFrame as a new row\n",
    "    df.loc[length] = individual_data\n",
    "\n",
    "# Display the DataFrame\n",
    "df\n",
    "\n",
    "# Save the DataFrame to a CSV file without the index column\n",
    "df.to_csv(r'C:\\Users\\migue\\OneDrive\\Documents\\Datasets\\Largest_Companies.csv', index = False)"
   ]
  },
  {
   "cell_type": "code",
   "execution_count": null,
   "id": "882ff299-44eb-49c3-8b56-1fa9639b6f29",
   "metadata": {},
   "outputs": [],
   "source": []
  },
  {
   "cell_type": "code",
   "execution_count": null,
   "id": "f8e2c1ce-d57e-409d-8926-07f7d1085892",
   "metadata": {},
   "outputs": [],
   "source": []
  }
 ],
 "metadata": {
  "kernelspec": {
   "display_name": "Python 3 (ipykernel)",
   "language": "python",
   "name": "python3"
  },
  "language_info": {
   "codemirror_mode": {
    "name": "ipython",
    "version": 3
   },
   "file_extension": ".py",
   "mimetype": "text/x-python",
   "name": "python",
   "nbconvert_exporter": "python",
   "pygments_lexer": "ipython3",
   "version": "3.11.7"
  }
 },
 "nbformat": 4,
 "nbformat_minor": 5
}
